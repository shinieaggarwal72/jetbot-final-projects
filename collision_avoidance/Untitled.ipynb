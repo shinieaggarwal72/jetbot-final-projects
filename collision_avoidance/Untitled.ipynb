{
 "cells": [
  {
   "cell_type": "code",
   "execution_count": 1,
   "id": "d674bb2a",
   "metadata": {},
   "outputs": [
    {
     "name": "stdout",
     "output_type": "stream",
     "text": [
      "Cloning into 'master'...\n",
      "fatal: repository 'https://github.com/oarriaga/face_classification/tree/master/' not found\n"
     ]
    }
   ],
   "source": [
    "!git clone https://github.com/oarriaga/face_classification/tree/master"
   ]
  },
  {
   "cell_type": "code",
   "execution_count": 10,
   "id": "95c7493f",
   "metadata": {},
   "outputs": [
    {
     "name": "stdout",
     "output_type": "stream",
     "text": [
      "Python 2.7.17\n"
     ]
    }
   ],
   "source": [
    "!python --version"
   ]
  },
  {
   "cell_type": "code",
   "execution_count": null,
   "id": "8083017a",
   "metadata": {},
   "outputs": [],
   "source": []
  },
  {
   "cell_type": "code",
   "execution_count": 2,
   "id": "1372cb9f",
   "metadata": {},
   "outputs": [],
   "source": [
    "import traitlets\n",
    "import ipywidgets.widgets as widgets\n",
    "from IPython.display import display\n",
    "from jetbot import Camera, bgr8_to_jpeg\n",
    "import numpy as np\n",
    "import cv2\n",
    "from jetbot import Robot\n",
    "robot = Robot()"
   ]
  },
  {
   "cell_type": "code",
   "execution_count": 3,
   "id": "dc8a7dd8",
   "metadata": {},
   "outputs": [],
   "source": [
    "from ipywidgets import ToggleButton\n",
    "from IPython.display import display\n"
   ]
  },
  {
   "cell_type": "code",
   "execution_count": null,
   "id": "a7a27cc6",
   "metadata": {},
   "outputs": [
    {
     "name": "stdout",
     "output_type": "stream",
     "text": [
      "Collecting keras==2.2.4\n",
      "  Downloading https://files.pythonhosted.org/packages/5e/10/aa32dad071ce52b5502266b5c659451cfd6ffcbf14e6c8c4f16c0ff5aaab/Keras-2.2.4-py2.py3-none-any.whl (312kB)\n",
      "\u001b[K    100% |################################| 317kB 432kB/s ta 0:00:01\n",
      "\u001b[?25hRequirement already satisfied: six>=1.9.0 in /usr/local/lib/python3.6/dist-packages (from keras==2.2.4)\n",
      "Collecting scipy>=0.14 (from keras==2.2.4)\n",
      "  Downloading https://files.pythonhosted.org/packages/aa/d5/dd06fe0e274e579e1dff21aa021219c039df40e39709fabe559faed072a5/scipy-1.5.4.tar.gz (25.2MB)\n",
      "\u001b[K    100% |################################| 25.2MB 10kB/s eta 0:00:01   20% |######                          | 5.3MB 696kB/s eta 0:00:29    28% |#########                       | 7.2MB 641kB/s eta 0:00:29    46% |##############                  | 11.8MB 377kB/s eta 0:00:36    46% |##############                  | 11.8MB 382kB/s eta 0:00:36    49% |###############                 | 12.4MB 370kB/s eta 0:00:35    51% |################                | 12.9MB 648kB/s eta 0:00:19    58% |##################              | 14.8MB 1.2MB/s eta 0:00:09    81% |##########################      | 20.6MB 476kB/s eta 0:00:10    87% |###########################     | 22.0MB 2.4MB/s eta 0:00:02    90% |#############################   | 22.9MB 1.5MB/s eta 0:00:02    93% |##############################  | 23.7MB 1.3MB/s eta 0:00:02    96% |##############################  | 24.3MB 740kB/s eta 0:00:02\n",
      "\u001b[?25hRequirement already satisfied: keras-preprocessing>=1.0.5 in /usr/local/lib/python3.6/dist-packages (from keras==2.2.4)\n",
      "Requirement already satisfied: numpy>=1.9.1 in /usr/local/lib/python3.6/dist-packages (from keras==2.2.4)\n",
      "Collecting pyyaml (from keras==2.2.4)\n",
      "  Downloading https://files.pythonhosted.org/packages/cd/e5/af35f7ea75cf72f2cd079c95ee16797de7cd71f29ea7c68ae5ce7be1eda0/PyYAML-6.0.1.tar.gz (125kB)\n",
      "\u001b[K    100% |################################| 133kB 1.0MB/s ta 0:00:01\n",
      "\u001b[?25hRequirement already satisfied: keras-applications>=1.0.6 in /usr/local/lib/python3.6/dist-packages (from keras==2.2.4)\n",
      "Requirement already satisfied: h5py in /usr/local/lib/python3.6/dist-packages (from keras==2.2.4)\n",
      "Building wheels for collected packages: scipy, pyyaml\n",
      "  Running setup.py bdist_wheel for scipy ... \u001b[?25l|"
     ]
    }
   ],
   "source": [
    "!pip3 install keras==2.2.4"
   ]
  },
  {
   "cell_type": "code",
   "execution_count": 4,
   "id": "95dd24ee",
   "metadata": {},
   "outputs": [
    {
     "data": {
      "application/vnd.jupyter.widget-view+json": {
       "model_id": "4956bd7c91fb4613b4fddd8d274af22d",
       "version_major": 2,
       "version_minor": 0
      },
      "text/plain": [
       "Button(description='Enable Movement', style=ButtonStyle())"
      ]
     },
     "metadata": {},
     "output_type": "display_data"
    },
    {
     "data": {
      "application/vnd.jupyter.widget-view+json": {
       "model_id": "ce0f8c14b85847b39f06b5c54367d40c",
       "version_major": 2,
       "version_minor": 0
      },
      "text/plain": [
       "Button(description='Disable Movement', style=ButtonStyle())"
      ]
     },
     "metadata": {},
     "output_type": "display_data"
    },
    {
     "data": {
      "application/vnd.jupyter.widget-view+json": {
       "model_id": "98c5c984d8de42e2846df45c68a98e04",
       "version_major": 2,
       "version_minor": 0
      },
      "text/plain": [
       "Image(value=b'', format='jpeg', height='224', width='224')"
      ]
     },
     "metadata": {},
     "output_type": "display_data"
    },
    {
     "data": {
      "application/vnd.jupyter.widget-view+json": {
       "model_id": "98c5c984d8de42e2846df45c68a98e04",
       "version_major": 2,
       "version_minor": 0
      },
      "text/plain": [
       "Image(value=b'\\xff\\xd8\\xff\\xe0\\x00\\x10JFIF\\x00\\x01\\x01\\x00\\x00\\x01\\x00\\x01\\x00\\x00\\xff\\xdb\\x00C\\x00\\x02\\x01\\x0…"
      ]
     },
     "metadata": {},
     "output_type": "display_data"
    }
   ],
   "source": [
    "import traitlets\n",
    "import ipywidgets.widgets as widgets\n",
    "from IPython.display import display\n",
    "from jetbot import Camera, bgr8_to_jpeg, Robot\n",
    "import cv2\n",
    "\n",
    "# Initialize face cascade and robot\n",
    "face_cascade = cv2.CascadeClassifier('/workspace/jetbot/notebooks/collision_avoidance/haarcascade_frontalface_default.xml')\n",
    "camera = Camera.instance(width=224, height=224)\n",
    "robot = Robot()\n",
    "\n",
    "# Create two buttons to enable and disable movement\n",
    "enable_button = widgets.Button(description=\"Enable Movement\")\n",
    "disable_button = widgets.Button(description=\"Disable Movement\")\n",
    "display(enable_button, disable_button)\n",
    "\n",
    "# Create image widget to display the camera feed\n",
    "image = widgets.Image(format='jpeg', width=224, height=224)\n",
    "display(image)\n",
    "\n",
    "# Global variable to track whether movement is enabled\n",
    "movement_enabled = False\n",
    "\n",
    "# Define the face detection and movement function\n",
    "def detect_faces_and_move(frame):\n",
    "    gray = cv2.cvtColor(frame, cv2.COLOR_BGR2GRAY)  # Convert frame to grayscale\n",
    "    faces = face_cascade.detectMultiScale(gray, 1.3, 5)  # Detect faces\n",
    "\n",
    "    # If movement is enabled, control robot\n",
    "    if movement_enabled:\n",
    "        if len(faces) == 1:\n",
    "            robot.left(0.3)  # Move left if 1 face is detected\n",
    "        elif len(faces) == 2:\n",
    "            robot.right(0.3)  # Move right if 2 faces are detected\n",
    "        else:\n",
    "            robot.stop()  # Stop if no or more than 2 faces are detected\n",
    "    else:\n",
    "        robot.stop()  # Always stop when movement is disabled\n",
    "\n",
    "    # Draw rectangles around detected faces\n",
    "    for (x, y, w, h) in faces:\n",
    "        cv2.rectangle(frame, (x, y), (x+w, y+h), (0, 255, 0), 2)\n",
    "\n",
    "    return bgr8_to_jpeg(frame)\n",
    "\n",
    "# Link camera feed to image widget and apply face detection/movement\n",
    "camera_link = traitlets.dlink((camera, 'value'), (image, 'value'), transform=detect_faces_and_move)\n",
    "\n",
    "# Function to enable movement\n",
    "def enable_movement_action(change):\n",
    "    global movement_enabled\n",
    "    movement_enabled = True\n",
    "    enable_button.description = \"Movement Enabled\"\n",
    "    disable_button.description = \"Disable Movement\"\n",
    "\n",
    "# Function to disable movement\n",
    "def disable_movement_action(change):\n",
    "    global movement_enabled\n",
    "    movement_enabled = False\n",
    "    enable_button.description = \"Enable Movement\"\n",
    "    disable_button.description = \"Movement Disabled\"\n",
    "    robot.stop()  # Stop the robot immediately when disabled\n",
    "\n",
    "# Attach functions to button clicks\n",
    "enable_button.on_click(enable_movement_action)\n",
    "disable_button.on_click(disable_movement_action)\n",
    "\n",
    "# Display the video feed with face detection and robot control\n",
    "display(image)"
   ]
  },
  {
   "cell_type": "code",
   "execution_count": null,
   "id": "72f330a5",
   "metadata": {},
   "outputs": [],
   "source": [
    "from keras.models import load_model"
   ]
  },
  {
   "cell_type": "code",
   "execution_count": 9,
   "id": "34544378",
   "metadata": {},
   "outputs": [
    {
     "name": "stdout",
     "output_type": "stream",
     "text": [
      "--2025-05-07 10:37:13--  https://github.com/oarriaga/face_classification/blob/master/trained_models/emotion_models/fer2013_mini_XCEPTION.102-0.66.hdf5\n",
      "Resolving github.com (github.com)... 20.207.73.82\n",
      "Connecting to github.com (github.com)|20.207.73.82|:443... connected.\n",
      "HTTP request sent, awaiting response... 200 OK\n",
      "Length: unspecified [text/html]\n",
      "Saving to: 'fer2013_mini_XCEPTION.102-0.66.hdf5'\n",
      "\n",
      "fer2013_mini_XCEPTI     [ <=>                ] 172.62K  --.-KB/s    in 0.1s    \n",
      "\n",
      "2025-05-07 10:37:13 (1.30 MB/s) - 'fer2013_mini_XCEPTION.102-0.66.hdf5' saved [176760]\n",
      "\n"
     ]
    }
   ],
   "source": [
    "!wget https://github.com/oarriaga/face_classification/blob/master/trained_models/emotion_models/fer2013_mini_XCEPTION.102-0.66.hdf5"
   ]
  }
 ],
 "metadata": {
  "kernelspec": {
   "display_name": "Python 3",
   "language": "python",
   "name": "python3"
  },
  "language_info": {
   "codemirror_mode": {
    "name": "ipython",
    "version": 3
   },
   "file_extension": ".py",
   "mimetype": "text/x-python",
   "name": "python",
   "nbconvert_exporter": "python",
   "pygments_lexer": "ipython3",
   "version": "3.6.9"
  }
 },
 "nbformat": 4,
 "nbformat_minor": 5
}
