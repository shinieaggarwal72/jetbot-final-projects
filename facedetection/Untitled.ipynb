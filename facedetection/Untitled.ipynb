{
 "cells": [
  {
   "cell_type": "code",
   "execution_count": 4,
   "id": "6f8f974b",
   "metadata": {},
   "outputs": [
    {
     "name": "stdout",
     "output_type": "stream",
     "text": [
      "✅ Copied and renamed 102 angry images to datasetface/angry\n",
      "✅ Copied and renamed 102 happy images to datasetface/happy\n"
     ]
    }
   ],
   "source": [
    "import os\n",
    "import shutil\n",
    "from uuid import uuid1\n",
    "\n",
    "# Source folders\n",
    "source_root = 'images'\n",
    "angry_src = os.path.join(source_root, 'angry')\n",
    "happy_src = os.path.join(source_root, 'happy')\n",
    "\n",
    "# Destination folders\n",
    "target_root = 'datasetface'\n",
    "angry_dst = os.path.join(target_root, 'angry')\n",
    "happy_dst = os.path.join(target_root, 'happy')\n",
    "\n",
    "# Create target folders if they don't exist\n",
    "os.makedirs(angry_dst, exist_ok=True)\n",
    "os.makedirs(happy_dst, exist_ok=True)\n",
    "\n",
    "# Helper function to copy and rename images\n",
    "def copy_and_rename_images(src_folder, dst_folder):\n",
    "    count = 0\n",
    "    for filename in os.listdir(src_folder):\n",
    "        if filename.lower().endswith(('.jpg', '.jpeg', '.png')):\n",
    "            src_path = os.path.join(src_folder, filename)\n",
    "            new_name = str(uuid1()) + '.jpg'\n",
    "            dst_path = os.path.join(dst_folder, new_name)\n",
    "            shutil.copy(src_path, dst_path)\n",
    "            count += 1\n",
    "    return count\n",
    "\n",
    "angry_count = copy_and_rename_images(angry_src, angry_dst)\n",
    "happy_count = copy_and_rename_images(happy_src, happy_dst)\n",
    "\n",
    "print(f\"✅ Copied and renamed {angry_count} angry images to {angry_dst}\")\n",
    "print(f\"✅ Copied and renamed {happy_count} happy images to {happy_dst}\")"
   ]
  },
  {
   "cell_type": "code",
   "execution_count": 1,
   "id": "a2232a02",
   "metadata": {},
   "outputs": [
    {
     "name": "stdout",
     "output_type": "stream",
     "text": [
      "replace images/images/happy/im0.png? [y]es, [n]o, [A]ll, [N]one, [r]ename: ^C\n"
     ]
    }
   ],
   "source": [
    "!unzip -q images.zip -d images"
   ]
  },
  {
   "cell_type": "code",
   "execution_count": null,
   "id": "3cd502be",
   "metadata": {},
   "outputs": [],
   "source": []
  }
 ],
 "metadata": {
  "kernelspec": {
   "display_name": "Python 3",
   "language": "python",
   "name": "python3"
  },
  "language_info": {
   "codemirror_mode": {
    "name": "ipython",
    "version": 3
   },
   "file_extension": ".py",
   "mimetype": "text/x-python",
   "name": "python",
   "nbconvert_exporter": "python",
   "pygments_lexer": "ipython3",
   "version": "3.6.9"
  }
 },
 "nbformat": 4,
 "nbformat_minor": 5
}
